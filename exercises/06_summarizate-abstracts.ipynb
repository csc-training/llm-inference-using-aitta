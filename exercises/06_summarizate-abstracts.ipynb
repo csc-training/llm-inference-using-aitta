{
 "cells": [
  {
   "cell_type": "markdown",
   "id": "bc36621d-4c41-4e50-b121-403643ae2953",
   "metadata": {},
   "source": [
    "## Abstract summarization \n",
    "\n",
    "This notebook demonstrates the practical use of an LLM for research assistance, specifically showing how to summarize research abstracts. The code facilitates loading text files containing research abstracts from a data directory, processing them with the LLM, and saving structured summaries for further analysis.\n",
    "\n",
    "You can customize the prompts and parameters to suit your specific research needs or modify the code to work with different document types and summarization tasks.\n",
    "\n",
    "In this example, one of the chat-tuned [**OLMo**](https://allenai.org/blog/olmo-open-language-model-87ccfc95f580) models is used for summarizing research abstracts. You need to create a model specific API key if you would like to use this model."
   ]
  },
  {
   "cell_type": "code",
   "execution_count": null,
   "id": "126b7229-1220-4d6c-8233-7792cd31e9fa",
   "metadata": {},
   "outputs": [],
   "source": [
    "api_key = \"<API-KEY>\""
   ]
  },
  {
   "cell_type": "code",
   "execution_count": null,
   "id": "632c66fe-3bf5-4476-a947-85f11ba1dcb6",
   "metadata": {},
   "outputs": [],
   "source": [
    "from aitta_client import Model, Client, StaticAccessTokenSource\n",
    "import openai\n",
    "import IPython\n",
    "\n",
    "token_source = StaticAccessTokenSource(api_key)\n",
    "aitta_client = Client(\"https://api-staging-aitta.2.rahtiapp.fi\", token_source)\n",
    "\n",
    "# load the \"allenai/OLMo-7B-0724-Instruct\" model\n",
    "model = Model.load(\"allenai/OLMo-7B-0724-Instruct\", aitta_client)\n",
    "print(model.description)\n",
    "\n",
    "# configure OpenAI client to use the Aitta OpenAI compatibility endpoints\n",
    "client = openai.OpenAI(api_key=token_source.get_access_token(), base_url=model.openai_api_url)"
   ]
  },
  {
   "cell_type": "code",
   "execution_count": null,
   "id": "eaa4591a-02aa-47e1-9a9b-e13ab6e8d626",
   "metadata": {},
   "outputs": [],
   "source": [
    "def get_response(prompt, max_completion_tokens=100):\n",
    "    response = client.chat.completions.create(\n",
    "        messages=[\n",
    "            {\n",
    "                \"role\": \"user\",\n",
    "                \"content\": prompt\n",
    "            }\n",
    "        ],\n",
    "        model=model.id,\n",
    "        n=1,\n",
    "        max_completion_tokens=max_completion_tokens,\n",
    "        stream=False  # response streaming is currently not supported by Aitta\n",
    "    )\n",
    "    return response.choices[0].message.content"
   ]
  },
  {
   "cell_type": "code",
   "execution_count": null,
   "id": "41c1dfd5-facb-4caf-b56a-2b8628ebc52b",
   "metadata": {},
   "outputs": [],
   "source": [
    "import os\n",
    "\n",
    "data_folder = \"abstracts/\"\n",
    "text_files = {}\n",
    "\n",
    "# Read all text files\n",
    "for filename in os.listdir(data_folder):\n",
    "    if filename.endswith(\".txt\"):\n",
    "        with open(os.path.join(data_folder, filename), \"r\", encoding=\"utf-8\") as file:\n",
    "            text_files[filename] = file.read()\n",
    "\n",
    "print(f\"Loaded {len(text_files)} text files.\")"
   ]
  },
  {
   "cell_type": "code",
   "execution_count": null,
   "id": "053eeb25-b7ad-4355-919d-538840f92b2c",
   "metadata": {},
   "outputs": [],
   "source": [
    "for filename in text_files.keys():\n",
    "    print(filename)"
   ]
  },
  {
   "cell_type": "code",
   "execution_count": null,
   "id": "d9f24934-3d15-437c-82f2-bea8fd9bbd76",
   "metadata": {},
   "outputs": [],
   "source": [
    "def summarize(prompt, text,  max_completion_tokens=100):\n",
    "    full_prompt = prompt + text\n",
    "    summary = get_response(full_prompt, max_completion_tokens)\n",
    "    return summary \n"
   ]
  },
  {
   "cell_type": "code",
   "execution_count": null,
   "id": "8693c826-681f-4299-9b91-a4be49cff268",
   "metadata": {
    "scrolled": true
   },
   "outputs": [],
   "source": [
    "from tqdm import tqdm  # Progress bar\n",
    "\n",
    "prompt= \"\"\"\n",
    "You excel at summarizing research articles.\n",
    "Provide your answer in concise style in 1 to 3 sentences.\n",
    "Summarize this research article: \n",
    "\"\"\"\n",
    "\n",
    "\n",
    "results = {}\n",
    "for filename, text in tqdm(text_files.items(), desc=\"Processing files\"):\n",
    "    results[filename] = summarize(prompt,text, 500)"
   ]
  },
  {
   "cell_type": "code",
   "execution_count": null,
   "id": "b80ad26b-0e11-404f-bc66-80fa2026ff58",
   "metadata": {},
   "outputs": [],
   "source": [
    "for filename, summary in results.items():\n",
    "    print(f\"### {filename} Summary ###\\n\")\n",
    "    print(summary)\n",
    "    print(\"\\n\" + \"=\"*50 + \"\\n\")"
   ]
  },
  {
   "cell_type": "code",
   "execution_count": null,
   "id": "1d118632-aeab-47f0-ab32-6c53862a99f6",
   "metadata": {},
   "outputs": [],
   "source": [
    "import json\n",
    "# Save results to JSON file\n",
    "results_file = \"summaries.json\"\n",
    "with open(results_file, 'w', encoding='utf-8') as f:\n",
    "    json.dump(results, f, indent=2, ensure_ascii=False)\n",
    "print(f\"Results saved to {results_file}\")"
   ]
  },
  {
   "cell_type": "markdown",
   "id": "4fd63a21-4593-45b0-97d9-eb36f24bd536",
   "metadata": {},
   "source": [
    "## Download `summaries.json`\n",
    "\n",
    "Your work is not saved in Noppe. You should download preferred files if you want to retain your work after Noppe instance times out.\n",
    "\n",
    "You can download a single file by going to the **File-menu** or by right-clicking the file and selecting **Download** from the dropdown menu.\n",
    "\n",
    "![summaries-download](./images/download_summaries.png)"
   ]
  },
  {
   "cell_type": "markdown",
   "id": "d688ec8f",
   "metadata": {},
   "source": []
  }
 ],
 "metadata": {
  "kernelspec": {
   "display_name": "Python 3 (ipykernel)",
   "language": "python",
   "name": "python3"
  },
  "language_info": {
   "codemirror_mode": {
    "name": "ipython",
    "version": 3
   },
   "file_extension": ".py",
   "mimetype": "text/x-python",
   "name": "python",
   "nbconvert_exporter": "python",
   "pygments_lexer": "ipython3",
   "version": "3.11.9"
  }
 },
 "nbformat": 4,
 "nbformat_minor": 5
}
